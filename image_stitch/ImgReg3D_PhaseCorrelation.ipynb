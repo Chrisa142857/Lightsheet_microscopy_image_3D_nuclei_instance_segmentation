version https://git-lfs.github.com/spec/v1
oid sha256:a2c5e7f3390e1305675de29ef3d5fb83be0f3b484e6bea62f4c1c6ff86930c04
size 72265
