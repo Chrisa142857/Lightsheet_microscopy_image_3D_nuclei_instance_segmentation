{
 "cells": [
  {
   "cell_type": "code",
   "execution_count": 1,
   "id": "e1412649",
   "metadata": {},
   "outputs": [],
   "source": [
    "import numpy as np\n",
    "import os, torch, copy, scipy, skimage, json\n",
    "from tqdm import trange, tqdm\n",
    "import nibabel as nib\n",
    "from PIL import Image\n",
    "\n",
    "import matplotlib.pyplot as plt\n",
    "\n",
    "from skimage.registration import phase_cross_correlation\n",
    "\n",
    "\n",
    "from datetime import datetime\n",
    "OVERLAP_R = 0.2\n",
    "\n"
   ]
  },
  {
   "cell_type": "code",
   "execution_count": 2,
   "id": "fad0f451",
   "metadata": {},
   "outputs": [],
   "source": [
    "ptag='pair4' \n",
    "btag='220904_L35D719P5_topro_brn2_ctip2_4x_0_108na_50sw_11hdf_4z_20ov_21-49-38'\n",
    "# btag='220902_L35D719P3_topro_brn2_ctip2_4x_11hdf_0_108na_50sw_4z_20ov_16-41-36'\n",
    "\n",
    "zratio = 2.5/4\n",
    "overlap_r = OVERLAP_R\n",
    "\n",
    "save_path = f'/cajal/ACMUSERS/ziquanw/Lightsheet/stitch_by_ptreg/{ptag}/{btag.split(\"_\")[1]}'\n",
    "result_path = f'/cajal/ACMUSERS/ziquanw/Lightsheet/results/P4/{ptag}/{btag}'\n",
    "tile_loc = np.array([[int(fn[8:10]), int(fn[-3:-1])] for fn in os.listdir(result_path)])\n",
    "ncol, nrow = tile_loc.max(0)+1\n",
    "# print(tile_loc, nrow, ncol)\n",
    "assert len(tile_loc) == nrow*ncol, f'tile of raw data is not complete, tile location: {tile_loc}'\n",
    "\n",
    "ls_image_root = f'/lichtman/Felix/Lightsheet/P4/{ptag}/{btag}'\n",
    "fn_ = ls_image_root.split('_')[-1]+'_'+'_'.join(btag.split('_')[1:-1])\n",
    "root = result_path + '/UltraII[%02d x %02d]'\n",
    "stack_names = [f for f in os.listdir(root % (0, 0)) if f.endswith('instance_center.zip')]\n",
    "neighbor = [[-1, 0], [0, -1], [-1, -1], [1, 0], [0, 1], [1, 1], [1, -1], [-1, 1]]\n",
    "os.makedirs(f'{save_path}/NIS_tranform', exist_ok=True)"
   ]
  },
  {
   "cell_type": "code",
   "execution_count": 3,
   "id": "10a0a478",
   "metadata": {
    "scrolled": false
   },
   "outputs": [
    {
     "name": "stdout",
     "output_type": "stream",
     "text": [
      "L35D719P3_NIScpp_results_zmin0_instance_center.zip\n",
      "L35D719P3_NIScpp_results_zmin958_instance_center.zip\n",
      "0 1048\n"
     ]
    },
    {
     "data": {
      "text/plain": [
       "{'0-0': [tensor(0.), tensor(0.)],\n",
       " '0-1': [tensor(0.), tensor(1605.6000)],\n",
       " '0-2': [tensor(0.), tensor(3211.2000)],\n",
       " '0-3': [tensor(0.), tensor(4816.8003)],\n",
       " '0-4': [tensor(0.), tensor(6422.3999)],\n",
       " '1-0': [tensor(1903.2001), tensor(0.)],\n",
       " '1-1': [tensor(1903.2001), tensor(1605.6000)],\n",
       " '1-2': [tensor(1903.2001), tensor(3211.2000)],\n",
       " '1-3': [tensor(1903.2001), tensor(4816.8003)],\n",
       " '1-4': [tensor(1903.2001), tensor(6422.3999)],\n",
       " '2-0': [tensor(3806.4001), tensor(0.)],\n",
       " '2-1': [tensor(3806.4001), tensor(1605.6000)],\n",
       " '2-2': [tensor(3806.4001), tensor(3211.2000)],\n",
       " '2-3': [tensor(3806.4001), tensor(4816.8003)],\n",
       " '2-4': [tensor(3806.4001), tensor(6422.3999)],\n",
       " '3-0': [tensor(5709.6001), tensor(0.)],\n",
       " '3-1': [tensor(5709.6001), tensor(1605.6000)],\n",
       " '3-2': [tensor(5709.6001), tensor(3211.2000)],\n",
       " '3-3': [tensor(5709.6001), tensor(4816.8003)],\n",
       " '3-4': [tensor(5709.6001), tensor(6422.3999)]}"
      ]
     },
     "execution_count": 3,
     "metadata": {},
     "output_type": "execute_result"
    }
   ],
   "source": [
    "for stack_name in stack_names:\n",
    "    print(stack_name)\n",
    "    meta_name = stack_name.replace('instance_center', 'seg_meta')\n",
    "    zstart = int(stack_name.split('zmin')[1].split('_')[0])\n",
    "    zstart = int(zstart*zratio)\n",
    "    seg_shape = torch.load(f'{root % (0, 0)}/{meta_name}')\n",
    "    zend = int(zstart + seg_shape[0].item()*zratio)\n",
    "\n",
    "zstart = 0 \n",
    "print(zstart, zend)\n",
    "tile_lt_loc = {\n",
    "    f'{i}-{j}': [i*seg_shape[1]*(1-overlap_r), j*seg_shape[2]*(1-overlap_r)] for i in range(ncol) for j in range(nrow)\n",
    "}\n",
    "tile_lt_loc"
   ]
  },
  {
   "cell_type": "code",
   "execution_count": null,
   "id": "33177a63",
   "metadata": {},
   "outputs": [],
   "source": []
  },
  {
   "cell_type": "code",
   "execution_count": 4,
   "id": "82a1d10b",
   "metadata": {},
   "outputs": [
    {
     "name": "stdout",
     "output_type": "stream",
     "text": [
      "[2, 3, 1, 0] [2, 3, 1, 4, 0]\n"
     ]
    }
   ],
   "source": [
    "row_order = [nrow//2] + [(-1)**i*(i//2+1)+nrow//2 for i in range(nrow-1)]\n",
    "row_order = [i for i in row_order if i in list(range(nrow))]\n",
    "for i in range(nrow): \n",
    "    if i not in row_order: row_order.append(i)\n",
    "col_order = [ncol//2] + [(-1)**i*(i//2+1)+ncol//2 for i in range(ncol-1)]\n",
    "col_order = [i for i in col_order if i in list(range(ncol))]\n",
    "for i in range(ncol): \n",
    "    if i not in col_order: col_order.append(i)\n",
    "\n",
    "print(col_order, row_order)\n"
   ]
  },
  {
   "cell_type": "code",
   "execution_count": 5,
   "id": "e618ba08",
   "metadata": {},
   "outputs": [],
   "source": [
    "def get_tile_stack_overlap_area(fn, zrange, overlap_r):\n",
    "    stack_overlaps = [[], [], [], []]\n",
    "    for zi in zrange:\n",
    "        tile_img = Image.open(fn % zi)\n",
    "        tile_img = np.asarray(tile_img)\n",
    "        h, w = tile_img.shape\n",
    "        t = tile_img[:int(h*overlap_r)+1]\n",
    "        b = tile_img[int(h*(1-overlap_r)):]\n",
    "        l = tile_img[:, :int(w*overlap_r)+1]\n",
    "        r = tile_img[:, int(w*(1-overlap_r)):]\n",
    "        stack_overlaps[0].append(t)\n",
    "        stack_overlaps[1].append(b)\n",
    "        stack_overlaps[2].append(l)\n",
    "        stack_overlaps[3].append(r)\n",
    "    \n",
    "    stack_overlaps = [\n",
    "        np.stack(stack_overlaps[0]),\n",
    "        np.stack(stack_overlaps[1]),\n",
    "        np.stack(stack_overlaps[2]),\n",
    "        np.stack(stack_overlaps[3]),\n",
    "    ]\n",
    "    return stack_overlaps\n",
    "    "
   ]
  },
  {
   "cell_type": "code",
   "execution_count": 6,
   "id": "497ca575",
   "metadata": {},
   "outputs": [],
   "source": [
    "def shift_image(image, shift):\n",
    "    s = int(shift[0])\n",
    "    if s < 0:\n",
    "        image = torch.cat([image[-s:], torch.zeros(-s, image.shape[1], image.shape[2], dtype=image.dtype)])\n",
    "    elif s > 0:\n",
    "        image = torch.cat([torch.zeros(s, image.shape[1], image.shape[2], dtype=image.dtype), image[:-s]])\n",
    "    \n",
    "    s = int(shift[1])\n",
    "    if s < 0:\n",
    "        image = torch.cat([image[:, -s:], torch.zeros(image.shape[0], -s, image.shape[2], dtype=image.dtype)], 1)\n",
    "    elif s > 0:\n",
    "        image = torch.cat([torch.zeros(image.shape[0], s, image.shape[2], dtype=image.dtype), image[:, :-s]], 1)\n",
    "        \n",
    "    s = int(shift[2])\n",
    "    if s < 0:\n",
    "        image = torch.cat([image[:, :, -s:], torch.zeros(image.shape[0], image.shape[1], -s, dtype=image.dtype)], 2)\n",
    "    elif s > 0:\n",
    "        image = torch.cat([torch.zeros(image.shape[0], image.shape[1], s, dtype=image.dtype), image[:, :, :-s]], 2)\n",
    "        \n",
    "    return image\n",
    "    "
   ]
  },
  {
   "cell_type": "code",
   "execution_count": 7,
   "id": "8c43471d",
   "metadata": {},
   "outputs": [
    {
     "data": {
      "text/plain": [
       "'\\nOne example\\n'"
      ]
     },
     "execution_count": 7,
     "metadata": {},
     "output_type": "execute_result"
    }
   ],
   "source": [
    "'''\n",
    "One example\n",
    "'''\n",
    "# overlap_r = 0.2\n",
    "# i = 0\n",
    "# j = 0\n",
    "# fn = f'{ls_image_root}/{fn_}_UltraII[{i:02d} x {j:02d}]_C01_xyz-Table Z%04d.ome.tif'\n",
    "# registered_tile = {f'{i}-{j}': get_tile_stack_overlap_area(fn, range(zstart, zend), overlap_r)}\n",
    "\n",
    "# i = 1\n",
    "# j = 0\n",
    "# fn = f'{ls_image_root}/{fn_}_UltraII[{i:02d} x {j:02d}]_C01_xyz-Table Z%04d.ome.tif'\n",
    "# registered_tile[f'{i}-{j}'] = get_tile_stack_overlap_area(fn, range(zstart, zend), overlap_r)"
   ]
  },
  {
   "cell_type": "code",
   "execution_count": 8,
   "id": "d8453139",
   "metadata": {},
   "outputs": [],
   "source": [
    "# print(registered_tile['0-0'][2].shape, registered_tile['1-0'][3].shape)\n",
    "# print(registered_tile['0-0'][3].shape, registered_tile['1-0'][2].shape)"
   ]
  },
  {
   "cell_type": "code",
   "execution_count": 9,
   "id": "08c05422",
   "metadata": {
    "scrolled": true
   },
   "outputs": [
    {
     "data": {
      "text/plain": [
       "'\\nOne example\\n'"
      ]
     },
     "execution_count": 9,
     "metadata": {},
     "output_type": "execute_result"
    }
   ],
   "source": [
    "'''\n",
    "One example\n",
    "'''\n",
    "\n",
    "# down_r = [1, 1, 1]\n",
    "\n",
    "# image = registered_tile['0-0'][1].astype(float)\n",
    "# offset_image = registered_tile['1-0'][0].astype(float)\n",
    "# print('original shape', image.shape, offset_image.shape)\n",
    "# image = torch.nn.functional.interpolate(torch.from_numpy(image)[None, None], scale_factor=down_r)[0,0].numpy()\n",
    "# offset_image = torch.nn.functional.interpolate(torch.from_numpy(offset_image)[None, None], scale_factor=down_r)[0,0].numpy()\n",
    "# print('downsampled shape', image.shape, offset_image.shape)\n",
    "\n",
    "# time = datetime.now()\n",
    "# # pixel precision first\n",
    "# shift, error, diffphase = phase_cross_correlation(image, offset_image)\n",
    "\n",
    "# print(f'Time consume {datetime.now()-time}. Detected pixel offset: {[s/r for s, r in zip(shift, down_r)]}', error, diffphase)\n",
    "\n",
    "# offset_image = shift_image(torch.from_numpy(offset_image), shift).numpy()\n",
    "# print('shifted shape', image.shape, offset_image.shape)\n",
    "\n"
   ]
  },
  {
   "cell_type": "code",
   "execution_count": 10,
   "id": "2a98aec1",
   "metadata": {},
   "outputs": [
    {
     "data": {
      "text/plain": [
       "'\\nOne example\\n'"
      ]
     },
     "execution_count": 10,
     "metadata": {},
     "output_type": "execute_result"
    }
   ],
   "source": [
    "'''\n",
    "One example\n",
    "'''\n",
    "# vis_slice = 200\n",
    "\n",
    "# fig = plt.figure(figsize=(24, 9))\n",
    "# ax1 = plt.subplot(1, 3, 1)\n",
    "# ax2 = plt.subplot(1, 3, 2, sharex=ax1, sharey=ax1)\n",
    "# ax3 = plt.subplot(1, 3, 3)\n",
    "\n",
    "# ax1.imshow(image[:, vis_slice], cmap='gray')\n",
    "# ax1.set_axis_off()\n",
    "# ax1.set_title('Reference image')\n",
    "\n",
    "# ax2.imshow(offset_image[:, vis_slice], cmap='gray')\n",
    "# ax2.set_axis_off()\n",
    "# ax2.set_title('Offset image')\n",
    "\n",
    "# overlay = (image + offset_image)/2\n",
    "# ax3.imshow(overlay[:, vis_slice], cmap='gray')\n",
    "# ax3.set_axis_off()\n",
    "# ax3.set_title(\"Overlay\")\n",
    "\n",
    "# plt.show()\n"
   ]
  },
  {
   "cell_type": "code",
   "execution_count": 11,
   "id": "55daaa77",
   "metadata": {
    "scrolled": true
   },
   "outputs": [],
   "source": [
    "# '''\n",
    "# Average multiple shifts \n",
    "# '''\n",
    "# def pcc_all_neighbor_tile(cur_ij, tile_overlap, tform_stack_coarse, tformed_tile_lt_loc, imax, jmax):\n",
    "# #     neighbor = [[-1, 0], [0, -1], [1, 0], [0, 1]]\n",
    "#     neighbor = [[1, 0], [0, 1]]\n",
    "#     down_r = 0.5\n",
    "#     i, j = cur_ij\n",
    "#     print(datetime.now(), f'start read stack ({i},{j})')\n",
    "#     if f'{i}-{j}' not in tile_overlap:\n",
    "#         fn = f'{ls_image_root}/{fn_}_UltraII[{i:02d} x {j:02d}]_C01_xyz-Table Z%04d.ome.tif'\n",
    "#         tile_overlap[f'{i}-{j}'] = get_tile_stack_overlap_area(fn, range(zstart, zend), overlap_r)\n",
    "\n",
    "#     reference_images = tile_overlap[f'{i}-{j}']\n",
    "#     print(datetime.now(), f'done read stack ({i},{j})')\n",
    "#     for pi, pj in neighbor:\n",
    "#         ## skip repeated pcc\n",
    "# #         if i+pi == pre_ij[0] and j+pj == pre_ij[1]: continue\n",
    "#         if i+pi >= imax or i+pi < 0: continue\n",
    "#         if j+pj >= jmax or j+pj < 0: continue\n",
    "#         print(datetime.now(), f'start read stack ({i+pi},{j+pj})')\n",
    "#         if f'{i+pi}-{j+pj}' not in tile_overlap:\n",
    "#             fn = f'{ls_image_root}/{fn_}_UltraII[{(i+pi):02d} x {(j+pj):02d}]_C01_xyz-Table Z%04d.ome.tif'\n",
    "#             tile_overlap[f'{i+pi}-{j+pj}'] = get_tile_stack_overlap_area(fn, range(zstart, zend), overlap_r)\n",
    "    \n",
    "#         moving_image = tile_overlap[f'{i+pi}-{j+pj}']\n",
    "#         print(datetime.now(), f'done read stack ({i+pi},{j+pj})')\n",
    "#         if pi < 0:\n",
    "#             moving_image = moving_image[1].astype(float)\n",
    "#             reference_image = reference_images[0].astype(float)\n",
    "#         elif pi > 0:\n",
    "#             moving_image = moving_image[0].astype(float)\n",
    "#             reference_image = reference_images[1].astype(float)\n",
    "#         elif pj < 0:\n",
    "#             moving_image = moving_image[3].astype(float)\n",
    "#             reference_image = reference_images[2].astype(float)\n",
    "#         elif pj > 0:\n",
    "#             moving_image = moving_image[2].astype(float)\n",
    "#             reference_image = reference_images[3].astype(float)\n",
    "\n",
    "#         moving_image = torch.nn.functional.interpolate(torch.from_numpy(moving_image)[None, None], scale_factor=down_r)[0,0].numpy()\n",
    "#         reference_image = torch.nn.functional.interpolate(torch.from_numpy(reference_image)[None, None], scale_factor=down_r)[0,0].numpy()\n",
    "#         print(datetime.now(), f\"start phase cross correlation mov ({i+pi},{j+pj}) to ({i},{j})\")\n",
    "#         shift, error, diffphase = phase_cross_correlation(reference_image, moving_image, overlap_ratio=0.8)\n",
    "#         shift = [s/down_r for s in shift]\n",
    "\n",
    "#         tz, tx, ty = shift\n",
    "#         ## plus with tgt shifts\n",
    "#         if len(tform_stack_coarse[f'{i}-{j}'][0]) > 0:\n",
    "#             tz = tz + np.mean(tform_stack_coarse[f'{i}-{j}'][0])\n",
    "#             tx = tx + np.mean(tform_stack_coarse[f'{i}-{j}'][1])\n",
    "#             ty = ty + np.mean(tform_stack_coarse[f'{i}-{j}'][2])\n",
    "#         shift = [tz, tx, ty]\n",
    "#         print(datetime.now(), f\"done phase cross correlation, shift: {shift}, error: {error:.6f}, dphase: {diffphase:.6f}\")\n",
    "\n",
    "#         ## it might connects multiple tiles    \n",
    "#         tform_stack_coarse[f'{i+pi}-{j+pj}'][0].append(tz)\n",
    "#         tform_stack_coarse[f'{i+pi}-{j+pj}'][1].append(tx)\n",
    "#         tform_stack_coarse[f'{i+pi}-{j+pj}'][2].append(ty)\n",
    "\n",
    "\n",
    "#     for pi, pj in neighbor:\n",
    "#         ## skip repeated pcc to prevent infinite loop\n",
    "# #         if i+pi == pre_ij[0] and j+pj == pre_ij[1]: continue\n",
    "#         if i+pi >= imax or i+pi < 0: continue\n",
    "#         if j+pj >= jmax or j+pj < 0: continue\n",
    "#         tform_stack_coarse, _, tile_overlap = pcc_all_neighbor_tile([i+pi, j+pj], tile_overlap, tform_stack_coarse, None, imax, jmax)\n",
    "    \n",
    "#     if tformed_tile_lt_loc is not None:\n",
    "#         for k in tform_stack_coarse:\n",
    "#             tz, tx, ty = tform_stack_coarse[k]\n",
    "#             tz = np.mean(tz)\n",
    "#             tx = np.mean(tx)\n",
    "#             ty = np.mean(ty)\n",
    "#             tformed_tile_lt_loc[0][k][0] = tformed_tile_lt_loc[0][k][0] + tx\n",
    "#             tformed_tile_lt_loc[0][k][1] = tformed_tile_lt_loc[0][k][1] + ty\n",
    "    \n",
    "#     return tform_stack_coarse, tformed_tile_lt_loc, tile_overlap\n",
    "\n",
    "# # Init inputs\n",
    "\n",
    "\n",
    "# tform_stack_coarse = {f'{i}-{j}': [[], [], []] for i in range(ncol) for j in range(nrow)}\n",
    "# tformed_tile_lt_loc = {zstart: copy.deepcopy(tile_lt_loc)}\n",
    "\n",
    "# # Start at imaging starting point (0,0)\n",
    "# i, j = 0, 0\n",
    "# tform_stack_coarse[f'{i}-{j}'] = [[0], [0], [0]]\n",
    "# # tile_overlap = {}\n",
    "# tform_stack_coarse, tformed_tile_lt_loc, tile_overlap = pcc_all_neighbor_tile([i, j], tile_overlap, tform_stack_coarse, tformed_tile_lt_loc, ncol, nrow)\n",
    "# print(tform_stack_coarse)"
   ]
  },
  {
   "cell_type": "code",
   "execution_count": 12,
   "id": "40f0484a",
   "metadata": {},
   "outputs": [
    {
     "name": "stderr",
     "output_type": "stream",
     "text": [
      "100%|█████████████████████████████████████████████████████████████████████████████████████| 5/5 [05:32<00:00, 66.54s/it]\n",
      "100%|█████████████████████████████████████████████████████████████████████████████████████| 5/5 [05:38<00:00, 67.78s/it]\n",
      "100%|█████████████████████████████████████████████████████████████████████████████████████| 5/5 [05:27<00:00, 65.43s/it]\n",
      "100%|█████████████████████████████████████████████████████████████████████████████████████| 5/5 [05:17<00:00, 63.58s/it]\n"
     ]
    }
   ],
   "source": [
    "tile_overlap = {}\n",
    "for i in range(ncol):\n",
    "    for j in trange(nrow):\n",
    "        if f'{i}-{j}' not in tile_overlap:\n",
    "            fn = f'{ls_image_root}/{fn_}_UltraII[{i:02d} x {j:02d}]_C01_xyz-Table Z%04d.ome.tif'\n",
    "            tile_overlap[f'{i}-{j}'] = get_tile_stack_overlap_area(fn, range(zstart, zend), overlap_r)\n"
   ]
  },
  {
   "cell_type": "code",
   "execution_count": 13,
   "id": "daadbf59",
   "metadata": {},
   "outputs": [
    {
     "data": {
      "text/plain": [
       "dict_keys(['0-0', '0-1', '0-2', '0-3', '0-4', '1-0', '1-1', '1-2', '1-3', '1-4', '2-0', '2-1', '2-2', '2-3', '2-4', '3-0', '3-1', '3-2', '3-3', '3-4'])"
      ]
     },
     "execution_count": 13,
     "metadata": {},
     "output_type": "execute_result"
    }
   ],
   "source": [
    "tile_overlap.keys()"
   ]
  },
  {
   "cell_type": "code",
   "execution_count": 14,
   "id": "a4f0367f",
   "metadata": {
    "scrolled": true
   },
   "outputs": [
    {
     "name": "stdout",
     "output_type": "stream",
     "text": [
      "2024-07-20 11:54:10.780035 start phase cross correlation mov (0,1) to (0,0)\n",
      "2024-07-20 11:54:48.491996 done phase cross correlation, shift: [-2.0, 0.0, -20.0], error: 1.000000, dphase: 0.000000\n",
      "2024-07-20 11:54:52.643842 start phase cross correlation mov (0,2) to (0,1)\n",
      "2024-07-20 11:55:18.579352 done phase cross correlation, shift: [-2.0, 4.0, -24.0], error: 1.000000, dphase: 0.000000\n",
      "2024-07-20 11:55:23.586519 start phase cross correlation mov (0,3) to (0,2)\n",
      "2024-07-20 11:55:49.901431 done phase cross correlation, shift: [-2.0, -6.0, -10.0], error: 1.000000, dphase: 0.000000\n",
      "2024-07-20 11:55:54.864749 start phase cross correlation mov (0,4) to (0,3)\n",
      "2024-07-20 11:56:20.865912 done phase cross correlation, shift: [0.0, -8.0, 2.0], error: 1.000000, dphase: -0.000000\n",
      "2024-07-20 11:56:25.771668 start phase cross correlation mov (1,1) to (1,0)\n",
      "2024-07-20 11:56:51.791124 done phase cross correlation, shift: [0.0, 0.0, -16.0], error: 1.000000, dphase: 0.000000\n",
      "2024-07-20 11:56:56.706638 start phase cross correlation mov (1,2) to (1,1)\n",
      "2024-07-20 11:57:22.740739 done phase cross correlation, shift: [0.0, 4.0, -26.0], error: 1.000000, dphase: -0.000000\n",
      "2024-07-20 11:57:27.681954 start phase cross correlation mov (1,3) to (1,2)\n",
      "2024-07-20 11:57:53.706432 done phase cross correlation, shift: [0.0, -6.0, -12.0], error: 1.000000, dphase: 0.000000\n",
      "2024-07-20 11:57:58.678628 start phase cross correlation mov (1,4) to (1,3)\n",
      "2024-07-20 11:58:24.701318 done phase cross correlation, shift: [0.0, -6.0, 0.0], error: 1.000000, dphase: 0.000000\n",
      "2024-07-20 11:58:29.671611 start phase cross correlation mov (2,1) to (2,0)\n",
      "2024-07-20 11:58:55.750860 done phase cross correlation, shift: [0.0, 2.0, -14.0], error: 1.000000, dphase: 0.000000\n",
      "2024-07-20 11:59:00.708214 start phase cross correlation mov (2,2) to (2,1)\n",
      "2024-07-20 11:59:26.739606 done phase cross correlation, shift: [0.0, 6.0, -26.0], error: 1.000000, dphase: -0.000000\n",
      "2024-07-20 11:59:31.648915 start phase cross correlation mov (2,3) to (2,2)\n",
      "2024-07-20 11:59:57.705349 done phase cross correlation, shift: [0.0, -4.0, -10.0], error: 1.000000, dphase: 0.000000\n",
      "2024-07-20 12:00:02.640989 start phase cross correlation mov (2,4) to (2,3)\n",
      "2024-07-20 12:00:28.691491 done phase cross correlation, shift: [0.0, -6.0, 0.0], error: 1.000000, dphase: 0.000000\n",
      "2024-07-20 12:00:33.679137 start phase cross correlation mov (3,1) to (3,0)\n",
      "2024-07-20 12:00:59.809618 done phase cross correlation, shift: [0.0, 2.0, -14.0], error: 1.000000, dphase: 0.000000\n",
      "2024-07-20 12:01:04.819816 start phase cross correlation mov (3,2) to (3,1)\n",
      "2024-07-20 12:01:30.896543 done phase cross correlation, shift: [0.0, 4.0, -24.0], error: 1.000000, dphase: 0.000000\n",
      "2024-07-20 12:01:35.633751 start phase cross correlation mov (3,3) to (3,2)\n",
      "2024-07-20 12:02:01.692054 done phase cross correlation, shift: [0.0, -4.0, -12.0], error: 1.000000, dphase: -0.000000\n",
      "2024-07-20 12:02:05.638278 start phase cross correlation mov (3,4) to (3,3)\n",
      "2024-07-20 12:02:31.694257 done phase cross correlation, shift: [0.0, -6.0, 0.0], error: 1.000000, dphase: 0.000000\n",
      "{'0-0': [[0], [0], [0]], '0-1': [[-2.0], [0.0], [-20.0]], '0-2': [[-2.0], [4.0], [-24.0]], '0-3': [[-2.0], [-6.0], [-10.0]], '0-4': [[0.0], [-8.0], [2.0]], '1-0': [[0], [0], [0]], '1-1': [[0.0], [0.0], [-16.0]], '1-2': [[0.0], [4.0], [-26.0]], '1-3': [[0.0], [-6.0], [-12.0]], '1-4': [[0.0], [-6.0], [0.0]], '2-0': [[0], [0], [0]], '2-1': [[0.0], [2.0], [-14.0]], '2-2': [[0.0], [6.0], [-26.0]], '2-3': [[0.0], [-4.0], [-10.0]], '2-4': [[0.0], [-6.0], [0.0]], '3-0': [[0], [0], [0]], '3-1': [[0.0], [2.0], [-14.0]], '3-2': [[0.0], [4.0], [-24.0]], '3-3': [[0.0], [-4.0], [-12.0]], '3-4': [[0.0], [-6.0], [0.0]]}\n",
      "2024-07-20 12:02:36.656311 start phase cross correlation mov (1,0) to (0,0)\n",
      "2024-07-20 12:02:59.302246 done phase cross correlation, shift: [2.0, -22.0, -14.0], error: 1.000000, dphase: 0.000000\n",
      "2024-07-20 12:03:04.264590 start phase cross correlation mov (2,0) to (1,0)\n",
      "2024-07-20 12:03:26.652239 done phase cross correlation, shift: [2.0, -10.0, -8.0], error: 1.000000, dphase: 0.000000\n",
      "2024-07-20 12:03:31.569997 start phase cross correlation mov (3,0) to (2,0)\n",
      "2024-07-20 12:03:54.167561 done phase cross correlation, shift: [2.0, -8.0, -6.0], error: 1.000000, dphase: 0.000000\n",
      "2024-07-20 12:03:59.128793 start phase cross correlation mov (1,1) to (0,1)\n",
      "2024-07-20 12:04:21.509295 done phase cross correlation, shift: [2.0, -24.0, -8.0], error: 1.000000, dphase: 0.000000\n",
      "2024-07-20 12:04:26.434491 start phase cross correlation mov (2,1) to (1,1)\n",
      "2024-07-20 12:04:48.908627 done phase cross correlation, shift: [2.0, -12.0, -2.0], error: 1.000000, dphase: -0.000000\n",
      "2024-07-20 12:04:53.771806 start phase cross correlation mov (3,1) to (2,1)\n",
      "2024-07-20 12:05:16.169549 done phase cross correlation, shift: [2.0, -10.0, -4.0], error: 1.000000, dphase: 0.000000\n",
      "2024-07-20 12:05:21.047789 start phase cross correlation mov (1,2) to (0,2)\n",
      "2024-07-20 12:05:43.537371 done phase cross correlation, shift: [0.0, -16.0, 0.0], error: 1.000000, dphase: 0.000000\n",
      "2024-07-20 12:05:48.408709 start phase cross correlation mov (2,2) to (1,2)\n",
      "2024-07-20 12:06:10.989115 done phase cross correlation, shift: [4.0, -14.0, 0.0], error: 1.000000, dphase: 0.000000\n",
      "2024-07-20 12:06:15.890900 start phase cross correlation mov (3,2) to (2,2)\n",
      "2024-07-20 12:06:38.472891 done phase cross correlation, shift: [2.0, -14.0, 2.0], error: 1.000000, dphase: 0.000000\n",
      "2024-07-20 12:06:43.368578 start phase cross correlation mov (1,3) to (0,3)\n",
      "2024-07-20 12:07:05.910711 done phase cross correlation, shift: [4.0, -26.0, 8.0], error: 1.000000, dphase: 0.000000\n",
      "2024-07-20 12:07:10.875246 start phase cross correlation mov (2,3) to (1,3)\n",
      "2024-07-20 12:07:33.473018 done phase cross correlation, shift: [4.0, -18.0, 6.0], error: 1.000000, dphase: 0.000000\n",
      "2024-07-20 12:07:38.389327 start phase cross correlation mov (3,3) to (2,3)\n",
      "2024-07-20 12:08:00.969883 done phase cross correlation, shift: [2.0, -14.0, 4.0], error: 1.000000, dphase: 0.000000\n",
      "2024-07-20 12:08:05.864208 start phase cross correlation mov (1,4) to (0,4)\n",
      "2024-07-20 12:08:28.477809 done phase cross correlation, shift: [2.0, -22.0, 10.0], error: 1.000000, dphase: 0.000000\n",
      "2024-07-20 12:08:33.398943 start phase cross correlation mov (2,4) to (1,4)\n",
      "2024-07-20 12:08:55.899660 done phase cross correlation, shift: [2.0, -18.0, 10.0], error: 1.000000, dphase: 0.000000\n",
      "2024-07-20 12:09:00.351493 start phase cross correlation mov (3,4) to (2,4)\n",
      "2024-07-20 12:09:22.900038 done phase cross correlation, shift: [2.0, -12.0, 10.0], error: 1.000000, dphase: 0.000000\n",
      "{'0-0': [[0], [0], [0]], '0-1': [[-2.0], [0.0], [-20.0]], '0-2': [[-2.0], [4.0], [-24.0]], '0-3': [[-2.0], [-6.0], [-10.0]], '0-4': [[0.0], [-8.0], [2.0]], '1-0': [[0, 2.0], [0, -22.0], [0, -14.0]], '1-1': [[0.0, 2.0], [0.0, -24.0], [-16.0, -8.0]], '1-2': [[0.0, 0.0], [4.0, -16.0], [-26.0, 0.0]], '1-3': [[0.0, 4.0], [-6.0, -26.0], [-12.0, 8.0]], '1-4': [[0.0, 2.0], [-6.0, -22.0], [0.0, 10.0]], '2-0': [[0, 2.0], [0, -10.0], [0, -8.0]], '2-1': [[0.0, 2.0], [2.0, -12.0], [-14.0, -2.0]], '2-2': [[0.0, 4.0], [6.0, -14.0], [-26.0, 0.0]], '2-3': [[0.0, 4.0], [-4.0, -18.0], [-10.0, 6.0]], '2-4': [[0.0, 2.0], [-6.0, -18.0], [0.0, 10.0]], '3-0': [[0, 2.0], [0, -8.0], [0, -6.0]], '3-1': [[0.0, 2.0], [2.0, -10.0], [-14.0, -4.0]], '3-2': [[0.0, 2.0], [4.0, -14.0], [-24.0, 2.0]], '3-3': [[0.0, 2.0], [-4.0, -14.0], [-12.0, 4.0]], '3-4': [[0.0, 2.0], [-6.0, -12.0], [0.0, 10.0]]}\n"
     ]
    }
   ],
   "source": [
    "'''\n",
    "Coarse reg by 3D PCC\n",
    "'''\n",
    "tform_stack_coarse_colrow = {}\n",
    "neighbor_row = [[0, -1], [0, 1]]\n",
    "neighbor_col = [[-1, 0], [1, 0]]\n",
    "down_r = 0.5\n",
    "for i in range(ncol):\n",
    "    j = 0\n",
    "    tform_stack_coarse_colrow[f'{i}-{j}'] = [[0], [0], [0]]\n",
    "    for j in range(1, nrow):\n",
    "        if f'{i}-{j}' not in tile_overlap:\n",
    "            fn = f'{ls_image_root}/{fn_}_UltraII[{i:02d} x {j:02d}]_C01_xyz-Table Z%04d.ome.tif'\n",
    "            tile_overlap[f'{i}-{j}'] = get_tile_stack_overlap_area(fn, range(zstart, zend), overlap_r)\n",
    "\n",
    "        moving_image = tile_overlap[f'{i}-{j}']\n",
    "        if f'{i}-{j}' not in tform_stack_coarse_colrow:\n",
    "            tform_stack_coarse_colrow[f'{i}-{j}'] = [[], [], []]\n",
    "        for pi, pj in neighbor_row:\n",
    "            if f'{i+pi}-{j+pj}' in tform_stack_coarse_colrow: \n",
    "                if f'{i+pi}-{j+pj}' not in tile_overlap:\n",
    "                    fn = f'{ls_image_root}/{fn_}_UltraII[{(i+pi):02d} x {(j+pj):02d}]_C01_xyz-Table Z%04d.ome.tif'\n",
    "                    tile_overlap[f'{i+pi}-{j+pj}'] = get_tile_stack_overlap_area(fn, range(zstart, zend), overlap_r)\n",
    "\n",
    "                reference_image = tile_overlap[f'{i+pi}-{j+pj}']\n",
    "                if pj < 0:\n",
    "                    moving_image = moving_image[2].astype(float)\n",
    "                    reference_image = reference_image[3].astype(float)\n",
    "                elif pj > 0:\n",
    "                    moving_image = moving_image[3].astype(float)\n",
    "                    reference_image = reference_image[2].astype(float)\n",
    "                \n",
    "                moving_image = torch.nn.functional.interpolate(torch.from_numpy(moving_image)[None, None], scale_factor=down_r)[0,0].numpy()\n",
    "                reference_image = torch.nn.functional.interpolate(torch.from_numpy(reference_image)[None, None], scale_factor=down_r)[0,0].numpy()\n",
    "                print(datetime.now(), f\"start phase cross correlation mov ({i},{j}) to ({i+pi},{j+pj})\")\n",
    "                shift, error, diffphase = phase_cross_correlation(reference_image, moving_image, overlap_ratio=0.8)\n",
    "                shift = [s/down_r for s in shift]\n",
    "\n",
    "                tz, tx, ty = shift\n",
    "                assert len(tform_stack_coarse_colrow[f'{i+pi}-{j+pj}'][0]) == 1, len(tform_stack_coarse_colrow[f'{i+pi}-{j+pj}'][0])\n",
    "                assert len(tform_stack_coarse_colrow[f'{i+pi}-{j+pj}'][1]) == 1, len(tform_stack_coarse_colrow[f'{i+pi}-{j+pj}'][1])\n",
    "                assert len(tform_stack_coarse_colrow[f'{i+pi}-{j+pj}'][2]) == 1, len(tform_stack_coarse_colrow[f'{i+pi}-{j+pj}'][2])\n",
    "#                 tz = tz + np.mean(tform_stack_coarse_colrow[f'{i+pi}-{j+pj}'][0])\n",
    "#                 tx = tx + np.mean(tform_stack_coarse_colrow[f'{i+pi}-{j+pj}'][1])\n",
    "#                 ty = ty + np.mean(tform_stack_coarse_colrow[f'{i+pi}-{j+pj}'][2])\n",
    "#                 tz = tz + tform_stack_coarse_colrow[f'{i+pi}-{j+pj}'][0][0]\n",
    "#                 tx = tx + tform_stack_coarse_colrow[f'{i+pi}-{j+pj}'][1][0]\n",
    "#                 ty = ty + tform_stack_coarse_colrow[f'{i+pi}-{j+pj}'][2][0]\n",
    "                shift = [tz, tx, ty]\n",
    "                print(datetime.now(), f\"done phase cross correlation, shift: {shift}, error: {error:.6f}, dphase: {diffphase:.6f}\")\n",
    "                tform_stack_coarse_colrow[f'{i}-{j}'][0].append(tz)\n",
    "                tform_stack_coarse_colrow[f'{i}-{j}'][1].append(tx)\n",
    "                tform_stack_coarse_colrow[f'{i}-{j}'][2].append(ty)\n",
    "\n",
    "#                 for imgi, img in enumerate(tile_overlap[f'{i}-{j}']):\n",
    "#                     tile_overlap[f'{i}-{j}'][imgi] = shift_image(torch.from_numpy(img.astype(float)), shift).numpy()\n",
    "                    \n",
    "                break\n",
    "print(tform_stack_coarse_colrow)             \n",
    "                \n",
    "for j in range(nrow):\n",
    "    for i in range(1, ncol):\n",
    "        moving_image = tile_overlap[f'{i}-{j}']\n",
    "        assert f'{i}-{j}' in tform_stack_coarse_colrow, f'{i}-{j}'\n",
    "        for pi, pj in neighbor_col:\n",
    "            if f'{i+pi}-{j+pj}' in tform_stack_coarse_colrow: \n",
    "                reference_image = tile_overlap[f'{i+pi}-{j+pj}']\n",
    "                if pi < 0:\n",
    "                    moving_image = moving_image[0].astype(float)\n",
    "                    reference_image = reference_image[1].astype(float)\n",
    "                elif pi > 0:\n",
    "                    moving_image = moving_image[1].astype(float)\n",
    "                    reference_image = reference_image[0].astype(float)\n",
    "                \n",
    "                moving_image = torch.nn.functional.interpolate(torch.from_numpy(moving_image)[None, None], scale_factor=down_r)[0,0].numpy()\n",
    "                reference_image = torch.nn.functional.interpolate(torch.from_numpy(reference_image)[None, None], scale_factor=down_r)[0,0].numpy()\n",
    "                print(datetime.now(), f\"start phase cross correlation mov ({i},{j}) to ({i+pi},{j+pj})\")\n",
    "                shift, error, diffphase = phase_cross_correlation(reference_image, moving_image, overlap_ratio=0.8)\n",
    "                shift = [s/down_r for s in shift]\n",
    "\n",
    "                tz, tx, ty = shift\n",
    "#                 print(tform_stack_coarse_colrow[f'{i+pi}-{j+pj}'][0])\n",
    "#                 tz = tz + np.mean(tform_stack_coarse_colrow[f'{i+pi}-{j+pj}'][0])\n",
    "#                 tx = tx + np.mean(tform_stack_coarse_colrow[f'{i+pi}-{j+pj}'][1])\n",
    "#                 ty = ty + np.mean(tform_stack_coarse_colrow[f'{i+pi}-{j+pj}'][2])\n",
    "#                 tz = tz + sum(tform_stack_coarse_colrow[f'{i+pi}-{j+pj}'][0])\n",
    "#                 tx = tx + sum(tform_stack_coarse_colrow[f'{i+pi}-{j+pj}'][1])\n",
    "#                 ty = ty + sum(tform_stack_coarse_colrow[f'{i+pi}-{j+pj}'][2])\n",
    "                shift = [tz, tx, ty]\n",
    "                print(datetime.now(), f\"done phase cross correlation, shift: {shift}, error: {error:.6f}, dphase: {diffphase:.6f}\")\n",
    "                tform_stack_coarse_colrow[f'{i}-{j}'][0].append(tz)\n",
    "                tform_stack_coarse_colrow[f'{i}-{j}'][1].append(tx)\n",
    "                tform_stack_coarse_colrow[f'{i}-{j}'][2].append(ty)\n",
    "                \n",
    "                break\n",
    "\n",
    "print(tform_stack_coarse_colrow)"
   ]
  },
  {
   "cell_type": "code",
   "execution_count": 15,
   "id": "c429dd5f",
   "metadata": {},
   "outputs": [
    {
     "data": {
      "text/plain": [
       "{'0-0': [[0], [0], [0]],\n",
       " '0-1': [[-2.0], [0.0], [-20.0]],\n",
       " '0-2': [[-2.0], [4.0], [-24.0]],\n",
       " '0-3': [[-2.0], [-6.0], [-10.0]],\n",
       " '0-4': [[0.0], [-8.0], [2.0]],\n",
       " '1-0': [[0, 2.0], [0, -22.0], [0, -14.0]],\n",
       " '1-1': [[0.0, 2.0], [0.0, -24.0], [-16.0, -8.0]],\n",
       " '1-2': [[0.0, 0.0], [4.0, -16.0], [-26.0, 0.0]],\n",
       " '1-3': [[0.0, 4.0], [-6.0, -26.0], [-12.0, 8.0]],\n",
       " '1-4': [[0.0, 2.0], [-6.0, -22.0], [0.0, 10.0]],\n",
       " '2-0': [[0, 2.0], [0, -10.0], [0, -8.0]],\n",
       " '2-1': [[0.0, 2.0], [2.0, -12.0], [-14.0, -2.0]],\n",
       " '2-2': [[0.0, 4.0], [6.0, -14.0], [-26.0, 0.0]],\n",
       " '2-3': [[0.0, 4.0], [-4.0, -18.0], [-10.0, 6.0]],\n",
       " '2-4': [[0.0, 2.0], [-6.0, -18.0], [0.0, 10.0]],\n",
       " '3-0': [[0, 2.0], [0, -8.0], [0, -6.0]],\n",
       " '3-1': [[0.0, 2.0], [2.0, -10.0], [-14.0, -4.0]],\n",
       " '3-2': [[0.0, 2.0], [4.0, -14.0], [-24.0, 2.0]],\n",
       " '3-3': [[0.0, 2.0], [-4.0, -14.0], [-12.0, 4.0]],\n",
       " '3-4': [[0.0, 2.0], [-6.0, -12.0], [0.0, 10.0]]}"
      ]
     },
     "execution_count": 15,
     "metadata": {},
     "output_type": "execute_result"
    }
   ],
   "source": [
    "tform_stack_coarse_colrow"
   ]
  },
  {
   "cell_type": "code",
   "execution_count": 16,
   "id": "735df0ce",
   "metadata": {},
   "outputs": [
    {
     "data": {
      "text/plain": [
       "(3, 1)"
      ]
     },
     "execution_count": 16,
     "metadata": {},
     "output_type": "execute_result"
    }
   ],
   "source": [
    "np.array([[0], [0], [0]]).shape"
   ]
  },
  {
   "cell_type": "code",
   "execution_count": 48,
   "id": "a60d1db1",
   "metadata": {},
   "outputs": [],
   "source": [
    "def fuse_colrow_tform(tform_colrow):\n",
    "    tform = {}\n",
    "    ## accumulate col\n",
    "    rows = []\n",
    "    cols = []\n",
    "    for k in tform_colrow:\n",
    "        i, j = k.split('-')\n",
    "        i, j = int(i), int(j)\n",
    "        tform[k] = np.array(tform_colrow[k])[:, 0]\n",
    "        tform[k] = tform[k] + (tform[f'{i}-{j-1}'] if j>0 else 0)\n",
    "        if i not in rows: rows.append(i)\n",
    "        if j not in cols: cols.append(j)\n",
    "\n",
    "    ## average and accumulate row\n",
    "    avg = {}\n",
    "    for i in rows:\n",
    "        if i>0: \n",
    "            avg[i] = []\n",
    "            for j in cols:\n",
    "                k = f'{i}-{j}'\n",
    "                avg[i].append(np.array(tform_colrow[k])[:, 1])\n",
    "\n",
    "            avg[i] = np.stack(avg[i]).mean(0) + avg[i-1]\n",
    "        else:\n",
    "            avg[i] = 0\n",
    "            \n",
    "    for i in rows:\n",
    "        for j in cols:\n",
    "            k = f'{i}-{j}'\n",
    "            tform[k] = tform[k] + avg[i]\n",
    "    \n",
    "    for k in tform:\n",
    "        tform[k] = [float(t) for t in tform[k]]\n",
    "        \n",
    "    return tform"
   ]
  },
  {
   "cell_type": "code",
   "execution_count": 49,
   "id": "c3a20e51",
   "metadata": {
    "scrolled": true
   },
   "outputs": [
    {
     "name": "stdout",
     "output_type": "stream",
     "text": [
      "0-0 [tensor(0.), tensor(0.)] [0.0, 0.0, 0.0]\n",
      "0-1 [tensor(0.), tensor(1585.6000)] [-2.0, 0.0, -20.0]\n",
      "0-2 [tensor(4.), tensor(3167.2000)] [-4.0, 4.0, -44.0]\n",
      "0-3 [tensor(-2.), tensor(4762.8003)] [-6.0, -2.0, -54.0]\n",
      "0-4 [tensor(-10.), tensor(6370.3999)] [-6.0, -10.0, -52.0]\n",
      "1-0 [tensor(1881.2001), tensor(-0.8000)] [2.0, -22.0, -0.8]\n",
      "1-1 [tensor(1881.2001), tensor(1588.7999)] [2.0, -22.0, -16.8]\n",
      "1-2 [tensor(1885.2001), tensor(3168.3999)] [2.0, -18.0, -42.8]\n",
      "1-3 [tensor(1879.2001), tensor(4762.0005)] [2.0, -24.0, -54.8]\n",
      "1-4 [tensor(1873.2001), tensor(6367.6001)] [2.0, -30.0, -54.8]\n",
      "2-0 [tensor(3770.0002), tensor(0.4000)] [4.8, -36.4, 0.3999999999999999]\n",
      "2-1 [tensor(3772.0002), tensor(1592.)] [4.8, -34.4, -13.6]\n",
      "2-2 [tensor(3778.0002), tensor(3171.5999)] [4.8, -28.4, -39.6]\n",
      "2-3 [tensor(3774.0002), tensor(4767.2002)] [4.8, -32.4, -49.6]\n",
      "2-4 [tensor(3768.0002), tensor(6372.7998)] [4.8, -38.4, -49.6]\n",
      "3-0 [tensor(5661.6001), tensor(1.6000)] [6.8, -48.0, 1.5999999999999999]\n",
      "3-1 [tensor(5663.6001), tensor(1593.2000)] [6.8, -46.0, -12.4]\n",
      "3-2 [tensor(5667.6001), tensor(3174.8000)] [6.8, -42.0, -36.4]\n",
      "3-3 [tensor(5663.6001), tensor(4768.4004)] [6.8, -46.0, -48.4]\n",
      "3-4 [tensor(5657.6001), tensor(6374.)] [6.8, -52.0, -48.4]\n"
     ]
    }
   ],
   "source": [
    "zstart = 0\n",
    "tformed_tile_lt_loc = {zstart: copy.deepcopy(tile_lt_loc)}\n",
    "tform_stack_coarse = fuse_colrow_tform(tform_stack_coarse_colrow)\n",
    "for k in tform_stack_coarse_colrow:\n",
    "#     tz, tx, ty = np.array(tform_stack_coarse_colrow[k])[:, -1]\n",
    "#     tz, tx, ty = np.array(tform_stack_coarse_colrow[k]).sum(1)\n",
    "#     tz, tx, ty = np.array(tform_stack_coarse_colrow[k]).mean(1)\n",
    "    tz, tx, ty = tform_stack_coarse[k]\n",
    "#     tform_stack_coarse[k] = [float(tz), float(tx), float(ty)]\n",
    "    tformed_tile_lt_loc[0][k][0] = tformed_tile_lt_loc[0][k][0] + tx\n",
    "    tformed_tile_lt_loc[0][k][1] = tformed_tile_lt_loc[0][k][1] + ty\n",
    "    print(k, tformed_tile_lt_loc[zstart][k], tform_stack_coarse[k])\n"
   ]
  },
  {
   "cell_type": "code",
   "execution_count": 50,
   "id": "fcd7321f",
   "metadata": {},
   "outputs": [
    {
     "data": {
      "text/plain": [
       "{'0-0': [0.0, 0.0, 0.0],\n",
       " '0-1': [-2.0, 0.0, -20.0],\n",
       " '0-2': [-4.0, 4.0, -44.0],\n",
       " '0-3': [-6.0, -2.0, -54.0],\n",
       " '0-4': [-6.0, -10.0, -52.0],\n",
       " '1-0': [2.0, -22.0, -0.8],\n",
       " '1-1': [2.0, -22.0, -16.8],\n",
       " '1-2': [2.0, -18.0, -42.8],\n",
       " '1-3': [2.0, -24.0, -54.8],\n",
       " '1-4': [2.0, -30.0, -54.8],\n",
       " '2-0': [4.8, -36.4, 0.3999999999999999],\n",
       " '2-1': [4.8, -34.4, -13.6],\n",
       " '2-2': [4.8, -28.4, -39.6],\n",
       " '2-3': [4.8, -32.4, -49.6],\n",
       " '2-4': [4.8, -38.4, -49.6],\n",
       " '3-0': [6.8, -48.0, 1.5999999999999999],\n",
       " '3-1': [6.8, -46.0, -12.4],\n",
       " '3-2': [6.8, -42.0, -36.4],\n",
       " '3-3': [6.8, -46.0, -48.4],\n",
       " '3-4': [6.8, -52.0, -48.4]}"
      ]
     },
     "execution_count": 50,
     "metadata": {},
     "output_type": "execute_result"
    }
   ],
   "source": [
    "\n",
    "with open(f'{save_path}/NIS_tranform/{stack_name.replace(\"instance_center.zip\", \"tform_coarse.json\")}', 'w', encoding='utf-8') as f:\n",
    "    json.dump(tform_stack_coarse, f, ensure_ascii=False, indent=4)\n",
    "\n",
    "tform_stack_coarse"
   ]
  },
  {
   "cell_type": "code",
   "execution_count": 51,
   "id": "590a22fa",
   "metadata": {},
   "outputs": [
    {
     "data": {
      "text/plain": [
       "{'0-0': [0.0, 0.0, 0.0],\n",
       " '0-1': [-2.0, 0.0, -20.0],\n",
       " '0-2': [-4.0, 4.0, -44.0],\n",
       " '0-3': [-6.0, -2.0, -54.0],\n",
       " '0-4': [-6.0, -10.0, -52.0],\n",
       " '1-0': [2.0, -22.0, -0.8],\n",
       " '1-1': [2.0, -22.0, -16.8],\n",
       " '1-2': [2.0, -18.0, -42.8],\n",
       " '1-3': [2.0, -24.0, -54.8],\n",
       " '1-4': [2.0, -30.0, -54.8],\n",
       " '2-0': [4.8, -36.4, 0.3999999999999999],\n",
       " '2-1': [4.8, -34.4, -13.6],\n",
       " '2-2': [4.8, -28.4, -39.6],\n",
       " '2-3': [4.8, -32.4, -49.6],\n",
       " '2-4': [4.8, -38.4, -49.6],\n",
       " '3-0': [6.8, -48.0, 1.5999999999999999],\n",
       " '3-1': [6.8, -46.0, -12.4],\n",
       " '3-2': [6.8, -42.0, -36.4],\n",
       " '3-3': [6.8, -46.0, -48.4],\n",
       " '3-4': [6.8, -52.0, -48.4]}"
      ]
     },
     "execution_count": 51,
     "metadata": {},
     "output_type": "execute_result"
    }
   ],
   "source": [
    "tform_stack_coarse = json.load(open(f'{save_path}/NIS_tranform/{stack_name.replace(\"instance_center.zip\", \"tform_coarse.json\")}', 'r', encoding='utf-8'))\n",
    "\n",
    "tform_stack_coarse"
   ]
  },
  {
   "cell_type": "code",
   "execution_count": 52,
   "id": "bdd71a10",
   "metadata": {},
   "outputs": [
    {
     "name": "stderr",
     "output_type": "stream",
     "text": [
      "Apply coarse to img: 100%|██████████████████████████████████████████████████████████████| 20/20 [08:58<00:00, 26.91s/it]\n"
     ]
    }
   ],
   "source": [
    "'''\n",
    "Apply coarse to img\n",
    "'''\n",
    "for k in tqdm(tile_overlap, desc='Apply coarse to img'):\n",
    "    for i, img in enumerate(tile_overlap[k]):\n",
    "        tile_overlap[k][i] = shift_image(torch.from_numpy(img.astype(float)), tform_stack_coarse[k]).numpy()\n",
    "\n",
    "tile_overlap_coarse = tile_overlap"
   ]
  },
  {
   "cell_type": "code",
   "execution_count": 53,
   "id": "af4d9a58",
   "metadata": {},
   "outputs": [],
   "source": [
    "tile_overlap = {}"
   ]
  },
  {
   "cell_type": "code",
   "execution_count": 54,
   "id": "c1ddaeb8",
   "metadata": {},
   "outputs": [
    {
     "name": "stdout",
     "output_type": "stream",
     "text": [
      "[(1048, 476, 2007), (1048, 476, 2007), (1048, 2379, 402), (1048, 2379, 402)]\n",
      "[(1048, 476, 2007), (1048, 476, 2007), (1048, 2379, 402), (1048, 2379, 402)]\n",
      "[(1048, 476, 2007), (1048, 476, 2007), (1048, 2379, 402), (1048, 2379, 402)]\n",
      "[(1048, 476, 2007), (1048, 476, 2007), (1048, 2379, 402), (1048, 2379, 402)]\n",
      "[(1048, 476, 2007), (1048, 476, 2007), (1048, 2379, 402), (1048, 2379, 402)]\n",
      "[(1048, 476, 2007), (1048, 476, 2007), (1048, 2379, 402), (1048, 2379, 402)]\n",
      "[(1048, 476, 2007), (1048, 476, 2007), (1048, 2379, 402), (1048, 2379, 402)]\n",
      "[(1048, 476, 2007), (1048, 476, 2007), (1048, 2379, 402), (1048, 2379, 402)]\n",
      "[(1048, 476, 2007), (1048, 476, 2007), (1048, 2379, 402), (1048, 2379, 402)]\n",
      "[(1048, 476, 2007), (1048, 476, 2007), (1048, 2379, 402), (1048, 2379, 402)]\n",
      "[(1048, 476, 2007), (1048, 476, 2007), (1048, 2379, 402), (1048, 2379, 402)]\n",
      "[(1048, 476, 2007), (1048, 476, 2007), (1048, 2379, 402), (1048, 2379, 402)]\n",
      "[(1048, 476, 2007), (1048, 476, 2007), (1048, 2379, 402), (1048, 2379, 402)]\n",
      "[(1048, 476, 2007), (1048, 476, 2007), (1048, 2379, 402), (1048, 2379, 402)]\n",
      "[(1048, 476, 2007), (1048, 476, 2007), (1048, 2379, 402), (1048, 2379, 402)]\n",
      "[(1048, 476, 2007), (1048, 476, 2007), (1048, 2379, 402), (1048, 2379, 402)]\n",
      "[(1048, 476, 2007), (1048, 476, 2007), (1048, 2379, 402), (1048, 2379, 402)]\n",
      "[(1048, 476, 2007), (1048, 476, 2007), (1048, 2379, 402), (1048, 2379, 402)]\n",
      "[(1048, 476, 2007), (1048, 476, 2007), (1048, 2379, 402), (1048, 2379, 402)]\n",
      "[(1048, 476, 2007), (1048, 476, 2007), (1048, 2379, 402), (1048, 2379, 402)]\n"
     ]
    }
   ],
   "source": [
    "for k in tile_overlap_coarse:\n",
    "    print([i.shape for i in tile_overlap_coarse[k]])"
   ]
  },
  {
   "cell_type": "code",
   "execution_count": 55,
   "id": "8e9afd7a",
   "metadata": {
    "scrolled": true
   },
   "outputs": [
    {
     "name": "stderr",
     "output_type": "stream",
     "text": [
      "mov (0,1):   0%|                                                                               | 0/1048 [00:00<?, ?it/s]/ram/USERS/ziquanw/softwares/miniconda3/envs/wholeBrain/lib/python3.7/site-packages/skimage/registration/_phase_cross_correlation.py:108: RuntimeWarning: invalid value encountered in cdouble_scalars\n",
      "  (src_amp * target_amp)\n",
      "mov (0,1): 100%|████████████████████████████████████████████████████████████████████| 1048/1048 [02:21<00:00,  7.40it/s]\n",
      "mov (0,2): 100%|████████████████████████████████████████████████████████████████████| 1048/1048 [02:22<00:00,  7.38it/s]\n",
      "mov (0,3): 100%|████████████████████████████████████████████████████████████████████| 1048/1048 [02:24<00:00,  7.27it/s]\n",
      "mov (0,4): 100%|████████████████████████████████████████████████████████████████████| 1048/1048 [02:22<00:00,  7.37it/s]\n",
      "mov (1,1): 100%|████████████████████████████████████████████████████████████████████| 1048/1048 [02:20<00:00,  7.48it/s]\n",
      "mov (1,2): 100%|████████████████████████████████████████████████████████████████████| 1048/1048 [02:21<00:00,  7.40it/s]\n",
      "mov (1,3): 100%|████████████████████████████████████████████████████████████████████| 1048/1048 [02:22<00:00,  7.38it/s]\n",
      "mov (1,4): 100%|████████████████████████████████████████████████████████████████████| 1048/1048 [02:22<00:00,  7.36it/s]\n",
      "mov (2,1): 100%|████████████████████████████████████████████████████████████████████| 1048/1048 [02:23<00:00,  7.32it/s]\n",
      "mov (2,2): 100%|████████████████████████████████████████████████████████████████████| 1048/1048 [02:23<00:00,  7.29it/s]\n",
      "mov (2,3): 100%|████████████████████████████████████████████████████████████████████| 1048/1048 [02:22<00:00,  7.35it/s]\n",
      "mov (2,4): 100%|████████████████████████████████████████████████████████████████████| 1048/1048 [02:25<00:00,  7.22it/s]\n",
      "mov (3,1): 100%|████████████████████████████████████████████████████████████████████| 1048/1048 [02:25<00:00,  7.22it/s]\n",
      "mov (3,2): 100%|████████████████████████████████████████████████████████████████████| 1048/1048 [02:26<00:00,  7.18it/s]\n",
      "mov (3,3): 100%|████████████████████████████████████████████████████████████████████| 1048/1048 [02:25<00:00,  7.21it/s]\n",
      "mov (3,4): 100%|████████████████████████████████████████████████████████████████████| 1048/1048 [02:23<00:00,  7.29it/s]\n",
      "mov (1,0): 100%|████████████████████████████████████████████████████████████████████| 1048/1048 [03:14<00:00,  5.39it/s]\n",
      "mov (2,0): 100%|████████████████████████████████████████████████████████████████████| 1048/1048 [02:42<00:00,  6.44it/s]\n",
      "mov (3,0): 100%|████████████████████████████████████████████████████████████████████| 1048/1048 [02:41<00:00,  6.48it/s]\n",
      "mov (1,1): 100%|████████████████████████████████████████████████████████████████████| 1048/1048 [02:45<00:00,  6.33it/s]\n",
      "mov (2,1): 100%|████████████████████████████████████████████████████████████████████| 1048/1048 [02:41<00:00,  6.50it/s]\n",
      "mov (3,1): 100%|████████████████████████████████████████████████████████████████████| 1048/1048 [02:40<00:00,  6.52it/s]\n",
      "mov (1,2): 100%|████████████████████████████████████████████████████████████████████| 1048/1048 [02:41<00:00,  6.51it/s]\n",
      "mov (2,2): 100%|████████████████████████████████████████████████████████████████████| 1048/1048 [02:40<00:00,  6.53it/s]\n",
      "mov (3,2): 100%|████████████████████████████████████████████████████████████████████| 1048/1048 [02:41<00:00,  6.50it/s]\n",
      "mov (1,3): 100%|████████████████████████████████████████████████████████████████████| 1048/1048 [02:41<00:00,  6.51it/s]\n",
      "mov (2,3): 100%|████████████████████████████████████████████████████████████████████| 1048/1048 [02:40<00:00,  6.51it/s]\n",
      "mov (3,3): 100%|████████████████████████████████████████████████████████████████████| 1048/1048 [02:41<00:00,  6.47it/s]\n",
      "mov (1,4): 100%|████████████████████████████████████████████████████████████████████| 1048/1048 [02:40<00:00,  6.51it/s]\n",
      "mov (2,4): 100%|████████████████████████████████████████████████████████████████████| 1048/1048 [02:41<00:00,  6.51it/s]\n",
      "mov (3,4): 100%|████████████████████████████████████████████████████████████████████| 1048/1048 [02:47<00:00,  6.26it/s]\n"
     ]
    }
   ],
   "source": [
    "'''\n",
    "Refine 2D by PCC\n",
    "'''\n",
    "tform_stack_refine_colrow = [{} for _ in range(zstart, zend)]\n",
    "neighbor_row = [[0, -1], [0, 1]]\n",
    "neighbor_col = [[-1, 0], [1, 0]]\n",
    "down_r = 1\n",
    "max_shift = 0.05\n",
    "for i in range(ncol):\n",
    "    j = 0\n",
    "    for zi in range(zstart, zend):\n",
    "        tform_stack_refine_colrow[zi][f'{i}-{j}'] = [[0], [0]]\n",
    "    \n",
    "    for j in range(1, nrow):\n",
    "        moving_image = tile_overlap_coarse[f'{i}-{j}']\n",
    "        assert moving_image[0].shape[0] == zend-zstart, moving_image[0].shape[0]\n",
    "        pre_shift = [0, 0]\n",
    "        for zi in trange(moving_image[0].shape[0]-1, -1, -1, desc=f\"mov ({i},{j})\"):\n",
    "#         for zi in trange(moving_image[0].shape[0], desc=f\"mov ({i},{j})\"):\n",
    "#             if moving_image[0][zi].max() < 600: continue\n",
    "#             if zi == 900: break\n",
    "            if f'{i}-{j}' not in tform_stack_refine_colrow[zi]:\n",
    "                tform_stack_refine_colrow[zi][f'{i}-{j}'] = [[], []]\n",
    "                \n",
    "            for pi, pj in neighbor_row:\n",
    "                if f'{i+pi}-{j+pj}' in tform_stack_refine_colrow[zi]: \n",
    "                    reference_image = tile_overlap_coarse[f'{i+pi}-{j+pj}']\n",
    "                    \n",
    "                    if pj < 0:\n",
    "                        moving_image2d = moving_image[2]\n",
    "                        reference_image2d = reference_image[3]\n",
    "                    elif pj > 0:\n",
    "                        moving_image2d = moving_image[3]\n",
    "                        reference_image2d = reference_image[2]\n",
    "                    \n",
    "                    reference_image2d = reference_image2d[zi].astype(float)\n",
    "                    moving_image2d = moving_image2d[zi].astype(float)\n",
    "                    moving_image2d = torch.nn.functional.interpolate(torch.from_numpy(moving_image2d)[None, None], scale_factor=down_r)[0,0].numpy()\n",
    "                    reference_image2d = torch.nn.functional.interpolate(torch.from_numpy(reference_image2d)[None, None], scale_factor=down_r)[0,0].numpy()\n",
    "#                     print(datetime.now(), f\"start phase cross correlation mov ({i},{j}) to ({i+pi},{j+pj})\")\n",
    "#                     print(reference_image2d.shape, moving_image2d.shape)\n",
    "                    shift, error, diffphase = phase_cross_correlation(reference_image2d, moving_image2d, overlap_ratio=0.99)\n",
    "                    if shift[0] > reference_image2d.shape[0]*max_shift or shift[1] > reference_image2d.shape[1]*max_shift:\n",
    "                        shift = pre_shift\n",
    "                    else:\n",
    "                        shift = [s/down_r for s in shift]\n",
    "\n",
    "                    tx, ty = shift\n",
    "#                     tx = tx + tform_stack_refine_colrow[zi][f'{i+pi}-{j+pj}'][0][0]\n",
    "#                     ty = ty + tform_stack_refine_colrow[zi][f'{i+pi}-{j+pj}'][1][0]\n",
    "                    shift = [tx, ty]\n",
    "#                     print(datetime.now(), f\"done phase cross correlation, shift: {shift}, error: {error:.6f}, dphase: {diffphase:.6f}\")\n",
    "                    tform_stack_refine_colrow[zi][f'{i}-{j}'][0].append(tx)\n",
    "                    tform_stack_refine_colrow[zi][f'{i}-{j}'][1].append(ty)\n",
    "                    pre_shift = shift\n",
    "                    break\n",
    "                    \n",
    "# print(tform_stack_refine_colrow)             \n",
    "                \n",
    "for j in range(nrow):\n",
    "    for i in range(1, ncol):\n",
    "        moving_image = tile_overlap_coarse[f'{i}-{j}']\n",
    "        for zi in trange(moving_image[0].shape[0]-1, -1, -1, desc=f\"mov ({i},{j})\"):\n",
    "#         for zi in trange(moving_image[0].shape[0], desc=f\"mov ({i},{j})\"):\n",
    "#             if moving_image[0][zi].max() < 700: continue\n",
    "#             if zi == 900: break\n",
    "            pre_shift = [0, 0]\n",
    "            assert f'{i}-{j}' in tform_stack_refine_colrow[zi], f'{i}-{j}'\n",
    "            for pi, pj in neighbor_col:\n",
    "                if f'{i+pi}-{j+pj}' in tform_stack_refine_colrow[zi]: \n",
    "                    reference_image = tile_overlap_coarse[f'{i+pi}-{j+pj}']\n",
    "                    if pi < 0:\n",
    "                        moving_image2d = moving_image[0]\n",
    "                        reference_image2d = reference_image[1]\n",
    "                    elif pi > 0:\n",
    "                        moving_image2d = moving_image[1]\n",
    "                        reference_image2d = reference_image[0]\n",
    "\n",
    "                    reference_image2d = reference_image2d[zi].astype(float)\n",
    "                    moving_image2d = moving_image2d[zi].astype(float)\n",
    "                    moving_image2d = torch.nn.functional.interpolate(torch.from_numpy(moving_image2d)[None, None], scale_factor=down_r)[0,0].numpy()\n",
    "                    reference_image2d = torch.nn.functional.interpolate(torch.from_numpy(reference_image2d)[None, None], scale_factor=down_r)[0,0].numpy()\n",
    "#                     print(datetime.now(), f\"start phase cross correlation mov ({i},{j}) to ({i+pi},{j+pj})\")\n",
    "                    shift, error, diffphase = phase_cross_correlation(reference_image2d, moving_image2d, overlap_ratio=0.99)\n",
    "                    if shift[0] > reference_image2d.shape[0]*max_shift or shift[1] > reference_image2d.shape[1]*max_shift:\n",
    "                        shift = pre_shift\n",
    "                    else:\n",
    "                        shift = [s/down_r for s in shift]\n",
    "\n",
    "                    tx, ty = shift\n",
    "#                     tx = tx + np.mean(tform_stack_refine_colrow[zi][f'{i+pi}-{j+pj}'][0])\n",
    "#                     ty = ty + np.mean(tform_stack_refine_colrow[zi][f'{i+pi}-{j+pj}'][1])\n",
    "#                     tx = tx + sum(tform_stack_refine_colrow[zi][f'{i+pi}-{j+pj}'][0])\n",
    "#                     ty = ty + sum(tform_stack_refine_colrow[zi][f'{i+pi}-{j+pj}'][1])\n",
    "                    shift = [tx, ty]\n",
    "#                     print(datetime.now(), f\"done phase cross correlation, shift: {shift}, error: {error:.6f}, dphase: {diffphase:.6f}\")\n",
    "                    tform_stack_refine_colrow[zi][f'{i}-{j}'][0].append(tx)\n",
    "                    tform_stack_refine_colrow[zi][f'{i}-{j}'][1].append(ty)\n",
    "                    pre_shift = shift\n",
    "                    break\n",
    "\n",
    "# print(tform_stack_coarse_colrow)"
   ]
  },
  {
   "cell_type": "code",
   "execution_count": 56,
   "id": "19868fa6",
   "metadata": {},
   "outputs": [
    {
     "data": {
      "text/plain": [
       "1"
      ]
     },
     "execution_count": 56,
     "metadata": {},
     "output_type": "execute_result"
    }
   ],
   "source": [
    "len(tformed_tile_lt_loc)"
   ]
  },
  {
   "cell_type": "code",
   "execution_count": 57,
   "id": "da156fa1",
   "metadata": {},
   "outputs": [],
   "source": [
    "# tformed_tile_lt_loc = {zstart: copy.deepcopy(tile_lt_loc)}\n",
    "tform_stack_refine = [{} for _ in range(len(tform_stack_refine_colrow))]\n",
    "tformed_tile_lt_loc_refine = {zi: copy.deepcopy(tformed_tile_lt_loc[0]) for zi in range(zstart, zend)}\n",
    "for zi in range(moving_image[0].shape[0]-1, -1, -1):\n",
    "#     if zi == 900: break\n",
    "# for zi, tform_stack_refine_colrow_zi in enumerate(tform_stack_refine_colrow):\n",
    "    tform_stack_refine[zi] = fuse_colrow_tform(tform_stack_refine_colrow[zi])\n",
    "    for k in tform_stack_refine_colrow[zi]:\n",
    "#         tx, ty = np.array(tform_stack_refine_colrow[zi][k])[:, -1]\n",
    "#         tx, ty = np.array(tform_stack_refine_colrow[zi][k]).sum(1)\n",
    "#         tx, ty = np.array(tform_stack_refine_colrow[zi][k]).mean(1)\n",
    "#         tform_stack_refine[zi][k] = [tform_stack_coarse[k][0], float(tx), float(ty)]\n",
    "        tx, ty = tform_stack_refine[zi][k]\n",
    "        tformed_tile_lt_loc_refine[zi][k][0] = tformed_tile_lt_loc_refine[zi][k][0] + tx\n",
    "        tformed_tile_lt_loc_refine[zi][k][1] = tformed_tile_lt_loc_refine[zi][k][1] + ty\n",
    "#         print(k, tformed_tile_lt_loc_refine[zi][k], tform_stack_refine[zi][k])\n"
   ]
  },
  {
   "cell_type": "code",
   "execution_count": null,
   "id": "47c89319",
   "metadata": {},
   "outputs": [],
   "source": [
    "\n",
    "with open(f'{save_path}/NIS_tranform/{stack_name.replace(\"instance_center.zip\", \"tform_refine.json\")}', 'w', encoding='utf-8') as f:\n",
    "    json.dump(tform_stack_refine, f, ensure_ascii=False, indent=4)\n",
    "\n",
    "tform_stack_refine[950]"
   ]
  },
  {
   "cell_type": "code",
   "execution_count": 59,
   "id": "320b0f6a",
   "metadata": {},
   "outputs": [],
   "source": [
    "\n",
    "class image_stitch_QCer:\n",
    "    def __init__(self, seg_shape, overlap_w, overlap_h):\n",
    "        x_grad1 = torch.cat([torch.arange(overlap_w).float() / overlap_w, \n",
    "            torch.ones(seg_shape[1]-2*overlap_w),\n",
    "            torch.arange(overlap_w, 0, -1) / overlap_w])\n",
    "\n",
    "        y_grad1 = torch.cat([torch.arange(overlap_h).float() / overlap_h, \n",
    "            torch.ones(seg_shape[2]-2*overlap_h),\n",
    "            torch.arange(overlap_h, 0, -1) / overlap_h])\n",
    "\n",
    "        self.mov_adaptive_grad = x_grad1[:, None] * y_grad1[None, :]\n",
    "\n",
    "        x_grad2 = torch.cat([torch.arange(overlap_w, 0, -1) / overlap_w, \n",
    "            torch.zeros(seg_shape[1]-2*overlap_w),\n",
    "            torch.arange(overlap_w).float() / overlap_w])\n",
    "\n",
    "        y_grad2 = torch.cat([torch.arange(overlap_h, 0, -1) / overlap_h, \n",
    "            torch.zeros(seg_shape[2]-2*overlap_h),\n",
    "            torch.arange(overlap_h).float() / overlap_h])\n",
    "\n",
    "        self.tgt_adaptive_grad = x_grad2[:, None] * y_grad1[None, :] + x_grad1[:, None] * y_grad2[None, :] + x_grad2[:, None] * y_grad2[None, :]\n",
    "\n",
    "    def adaptive_image_stitch(self, mov_overlap, tgt_overlap, overlap_mask):\n",
    "        overlap_coord = np.where(overlap_mask)\n",
    "        if len(overlap_coord) == 3:\n",
    "            _, ox, oy = overlap_coord\n",
    "        else:\n",
    "            ox, oy = overlap_coord\n",
    "            \n",
    "        mov = self.mov_adaptive_grad[ox, oy].numpy() * mov_overlap\n",
    "        tgt = self.tgt_adaptive_grad[ox, oy].numpy() * tgt_overlap\n",
    "        return (mov + tgt)\n",
    "        "
   ]
  },
  {
   "cell_type": "code",
   "execution_count": 62,
   "id": "3378cf21",
   "metadata": {},
   "outputs": [
    {
     "data": {
      "text/plain": [
       "{'0-0': [0.0, 0.0, 0.0],\n",
       " '0-1': [-2.0, 0.0, -20.0],\n",
       " '0-2': [-4.0, 4.0, -44.0],\n",
       " '0-3': [-6.0, -2.0, -54.0],\n",
       " '0-4': [-6.0, -10.0, -52.0],\n",
       " '1-0': [2.0, -22.0, -0.8],\n",
       " '1-1': [2.0, -22.0, -16.8],\n",
       " '1-2': [2.0, -18.0, -42.8],\n",
       " '1-3': [2.0, -24.0, -54.8],\n",
       " '1-4': [2.0, -30.0, -54.8],\n",
       " '2-0': [4.8, -36.4, 0.3999999999999999],\n",
       " '2-1': [4.8, -34.4, -13.6],\n",
       " '2-2': [4.8, -28.4, -39.6],\n",
       " '2-3': [4.8, -32.4, -49.6],\n",
       " '2-4': [4.8, -38.4, -49.6],\n",
       " '3-0': [6.8, -48.0, 1.5999999999999999],\n",
       " '3-1': [6.8, -46.0, -12.4],\n",
       " '3-2': [6.8, -42.0, -36.4],\n",
       " '3-3': [6.8, -46.0, -48.4],\n",
       " '3-4': [6.8, -52.0, -48.4]}"
      ]
     },
     "execution_count": 62,
     "metadata": {},
     "output_type": "execute_result"
    }
   ],
   "source": [
    "tform_stack_coarse"
   ]
  },
  {
   "cell_type": "code",
   "execution_count": 66,
   "id": "cfc44e4e",
   "metadata": {},
   "outputs": [
    {
     "name": "stderr",
     "output_type": "stream",
     "text": [
      "Apply transformation: 100%|███████████████████████████████████████████████████████| 1048/1048 [1:38:37<00:00,  5.65s/it]\n"
     ]
    }
   ],
   "source": [
    "'''\n",
    "apply stitch to LS image for QC\n",
    "'''\n",
    "tform_xy_max = [0.05*seg_shape[1], 0.05*seg_shape[2]]\n",
    "\n",
    "tile_w = int(seg_shape[1].item()*(1-overlap_r))\n",
    "tile_h = int(seg_shape[2].item()*(1-overlap_r))\n",
    "overlap_w = int(seg_shape[1].item()*overlap_r)\n",
    "overlap_h = int(seg_shape[2].item()*overlap_r)\n",
    "max_pixel = None\n",
    "image_stitcher = image_stitch_QCer(seg_shape, overlap_w, overlap_h)\n",
    "os.makedirs(f'{save_path}/LS_image_stitched', exist_ok=True)\n",
    "pre_startx, pre_starty = {}, {}\n",
    "for zi in tqdm(tformed_tile_lt_loc_refine, desc='Apply transformation'):\n",
    "# for zi in trange(len(tformed_tile_lt_loc_refine)-1, -1, -1, desc='Apply transformation'):\n",
    "#     if zi > 450: continue\n",
    "#     if zi == 900: break\n",
    "    valid_wsi = True\n",
    "    for ijstr in tformed_tile_lt_loc_refine[zi]:\n",
    "        i, j = ijstr.split('-')\n",
    "        i, j = int(i), int(j)\n",
    "        tz = tform_stack_coarse[f'{i}-{j}'][0]\n",
    "        tz = int(np.around(tz))\n",
    "        wsii = zi - tz\n",
    "        valid_wsi = wsii>=0 and wsii<len(tformed_tile_lt_loc_refine)\n",
    "        if not valid_wsi: break\n",
    "        \n",
    "    if not valid_wsi: continue\n",
    "    wsi = np.zeros((tile_w*ncol+overlap_w+1, tile_h*nrow+overlap_h+1), dtype=np.float32)\n",
    "    for ijstr in tformed_tile_lt_loc_refine[zi]:\n",
    "        if ijstr not in pre_startx:\n",
    "            pre_startx[ijstr] = None\n",
    "            pre_starty[ijstr] = None\n",
    "        \n",
    "        i, j = ijstr.split('-')\n",
    "        i, j = int(i), int(j)\n",
    "            \n",
    "        tz = tform_stack_coarse[f'{i}-{j}'][0]\n",
    "        tz = int(np.around(tz))\n",
    "        wsii = zi - tz\n",
    "\n",
    "        fn = f'{fn_}_UltraII[{i:02d} x {j:02d}]_C01_xyz-Table Z{wsii:04d}.ome.tif'\n",
    "        tile_img = Image.open(f'{ls_image_root}/{fn}')\n",
    "        tile_img_ = np.asarray(tile_img)\n",
    "        max_pix = np.percentile(tile_img_, 99)\n",
    "        if max_pixel is None: max_pixel = max_pix\n",
    "        max_pixel = max(max_pix, max_pixel)\n",
    "        tile_img = (tile_img_-tile_img_.min())/(max_pixel-tile_img_.min())\n",
    "        \n",
    "        if abs(tform_stack_refine[wsii][ijstr][0]) > tform_xy_max[0] or abs(tform_stack_refine[wsii][ijstr][1]) > tform_xy_max[1]:\n",
    "            if pre_startx[ijstr] is not None: \n",
    "                startx, starty = pre_startx[ijstr], pre_starty[ijstr]\n",
    "            else:\n",
    "                for zii in range(wsii, len(tform_stack_refine)):\n",
    "                    if abs(tform_stack_refine[zii][ijstr][0]) <= tform_xy_max[0] and abs(tform_stack_refine[zii][ijstr][1]) <= tform_xy_max[1]:\n",
    "                        startx, starty = tformed_tile_lt_loc_refine[zii + tz][ijstr]\n",
    "                        break\n",
    "        else:\n",
    "            startx, starty = tformed_tile_lt_loc_refine[zi][ijstr]\n",
    "        \n",
    "        pre_startx[ijstr] = startx\n",
    "        pre_starty[ijstr] = starty\n",
    "\n",
    "        startx, endx = int(startx), tile_img.shape[0] + int(startx)\n",
    "        starty, endy = int(starty), tile_img.shape[1] + int(starty)\n",
    "        if startx < 0:\n",
    "            tile_img = tile_img[-startx:]\n",
    "            startx = 0\n",
    "        if starty < 0:\n",
    "            tile_img = tile_img[:, -starty:]\n",
    "            starty = 0\n",
    "        if endx > wsi.shape[0]: \n",
    "            tile_img = tile_img[:-(endx-wsi.shape[0])]\n",
    "            endx = wsi.shape[0]\n",
    "\n",
    "        if endy > wsi.shape[1]: \n",
    "            tile_img = tile_img[:, :-(endy-wsi.shape[1])]\n",
    "            endy = wsi.shape[1]\n",
    "\n",
    "        cur_tile = wsi[startx:endx, starty:endy]\n",
    "        fg_mask = cur_tile>0\n",
    "        if fg_mask.any():\n",
    "            tile_img[fg_mask] = image_stitcher.adaptive_image_stitch(tile_img[fg_mask], cur_tile[fg_mask], fg_mask)\n",
    "\n",
    "        wsi[startx:endx, starty:endy] = tile_img\n",
    "    \n",
    "    save_fn = f'{save_path}/LS_image_stitched/{btag.split(\"_\")[1]}_TOPRO_C01_Z{zi:04d}.ptreg_stitch.tif'\n",
    "    Image.fromarray(wsi).save(save_fn)\n",
    "\n",
    "        \n",
    "    "
   ]
  },
  {
   "cell_type": "code",
   "execution_count": null,
   "id": "5e14fe2e",
   "metadata": {},
   "outputs": [],
   "source": [
    "tform_stack_refine[zi][ijstr]"
   ]
  },
  {
   "cell_type": "code",
   "execution_count": null,
   "id": "ed4c95c1",
   "metadata": {},
   "outputs": [],
   "source": []
  }
 ],
 "metadata": {
  "kernelspec": {
   "display_name": "Python [conda env:wholeBrain] *",
   "language": "python",
   "name": "conda-env-wholeBrain-py"
  },
  "language_info": {
   "codemirror_mode": {
    "name": "ipython",
    "version": 3
   },
   "file_extension": ".py",
   "mimetype": "text/x-python",
   "name": "python",
   "nbconvert_exporter": "python",
   "pygments_lexer": "ipython3",
   "version": "3.7.6"
  }
 },
 "nbformat": 4,
 "nbformat_minor": 5
}
