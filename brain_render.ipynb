{
 "cells": [
  {
   "cell_type": "code",
   "execution_count": 1,
   "metadata": {},
   "outputs": [],
   "source": [
    "from vedo import embedWindow, Plotter, show  # <- this will be used to render an embedded scene \n",
    "from itkwidgets import view\n",
    "from imio import load\n",
    "from vedo import Volume, Points\n",
    "import os\n",
    "import pandas\n",
    "import torch\n",
    "import random\n",
    "import nibabel as nib\n",
    "import numpy as np"
   ]
  },
  {
   "cell_type": "code",
   "execution_count": 3,
   "metadata": {},
   "outputs": [
    {
     "name": "stdout",
     "output_type": "stream",
     "text": [
      "torch.Size([1000000, 3])\n"
     ]
    }
   ],
   "source": [
    "pair_tag = 'pair16'\n",
    "brain_tag = 'L74D769P4'\n",
    "r = '/lichtman/Felix/Lightsheet/P4/%s/output_%s/registered' % (pair_tag, brain_tag)\n",
    "mask_fn = os.path.join(r, '%s_MASK_topro_25_all.nii' % brain_tag)\n",
    "# mydata = load.load_any(mask_fn)\n",
    "mydata = np.transpose(nib.load(mask_fn).get_fdata(), (2, 0, 1))[:, :, ::-1].copy()\n",
    "vol = Volume(mydata)\n",
    "mesh = vol.isosurface()\n",
    "mesh.alpha = 0.5\n",
    "center = '/lichtman/ziquanw/Lightsheet/results/P4/center_pts_%s_%s_RoI16001.csv' % (pair_tag, brain_tag)\n",
    "center = torch.from_numpy(pandas.read_csv(center).to_numpy())\n",
    "cid = torch.arange(center.shape[0]).tolist()\n",
    "random.shuffle(cid)\n",
    "center = center[cid[:1000000]]\n",
    "mshape = mydata.shape\n",
    "center[:,2] = 1 - center[:,2]\n",
    "center[:,0] = center[:,0] * mshape[0]\n",
    "center[:,1] = center[:,1] * mshape[1]\n",
    "center[:,2] = center[:,2] * mshape[2]\n",
    "print(center.shape)\n"
   ]
  },
  {
   "cell_type": "code",
   "execution_count": 5,
   "metadata": {},
   "outputs": [
    {
     "data": {
      "application/vnd.jupyter.widget-view+json": {
       "model_id": "eaf1124cb2f748aaaa4f8b4649773f89",
       "version_major": 2,
       "version_minor": 0
      },
      "text/plain": [
       "Plot(antialias=True, axes=['x', 'y', 'z'], axes_helper=1.0, background_color=16777215, camera=[2, -3, 0.2, 0.0…"
      ]
     },
     "metadata": {},
     "output_type": "display_data"
    }
   ],
   "source": [
    "# from brainrender.scene import Scene\n",
    "# from brainrender.actors import Points\n",
    "embedWindow('k3d')  # <- this will make your scene embed with k3d\n",
    "\n",
    "# # initialise brainrender scene\n",
    "# scene = Scene()\n",
    "# scene.jupyter = True\n",
    "# # create points actor\n",
    "# cells = Points(center.numpy(), radius=45, colors=\"palegoldenrod\", alpha=0.8)\n",
    "\n",
    "# # visualise injection site (retrosplenial cortex)\n",
    "# scene.add_brain_region([\"RSPd\"], color=\"mediumseagreen\", alpha=0.6)\n",
    "# scene.add_brain_region([\"RSPv\"], color=\"purple\", alpha=0.6)\n",
    "# scene.add_brain_region([\"RSPagl\"], color=\"mediumseagreen\", alpha=0.6)\n",
    "\n",
    "# # Add cells\n",
    "# scene.add(cells)\n",
    "\n",
    "# scene.render()\n",
    "\n",
    "#  to actually display the scene we use `vedo`'s `show` method to show the scene's actors\n",
    "plt = Plotter()\n",
    "# plt.show(*scene.renderables)  # same as vedo.show(*scene.renderables)\n",
    "z = center[:, 0]\n",
    "y = center[:, 1]\n",
    "x = mshape[2] - center[:, 2]\n",
    "cells = Points(torch.stack([x, y, z]).numpy(), r=2, alpha=0.7)\n",
    "plt.show(mesh, cells)"
   ]
  },
  {
   "attachments": {},
   "cell_type": "markdown",
   "metadata": {},
   "source": [
    "## Embeddded scene"
   ]
  },
  {
   "cell_type": "code",
   "execution_count": null,
   "metadata": {},
   "outputs": [],
   "source": [
    "# embedWindow('k3d')  # <- this will make your scene embed with k3d\n",
    "\n",
    "# # Create a scene\n",
    "# scene = Scene()  # note that the title will not actually display\n",
    "# shape = scene.atlas.space.shape\n",
    "# print(scene.atlas.space)\n",
    "# center[:, 0] = 1-center[:, 0]\n",
    "# center = center + 0.1\n",
    "# center[:, 0] = center[:, 0]*shape[0]*20\n",
    "# center[:, 1] = center[:, 1]*shape[1]*20\n",
    "# center[:, 2] = center[:, 2]*shape[2]*20\n",
    "# # center = Points(center.numpy())\n",
    "# actor = actors.Points(center.numpy())\n",
    "\n",
    "# # scene.add_brain_region('MOs')\n",
    "\n",
    "# # Make sure it gets embedded in the window\n",
    "# scene.jupyter = True\n",
    "\n",
    "# scene.add(actor)\n",
    "# # scene.render now will prepare the scene for rendering, but it won't render anything yet\n",
    "# scene.render()\n",
    "\n",
    "# #  to actually display the scene we use `vedo`'s `show` method to show the scene's actors\n",
    "# plt = Plotter()\n",
    "# plt.show(*scene.renderables)  # same as vedo.show(*scene.renderables)"
   ]
  }
 ],
 "metadata": {
  "kernelspec": {
   "display_name": "Python 3 (ipykernel)",
   "language": "python",
   "name": "python3"
  },
  "language_info": {
   "codemirror_mode": {
    "name": "ipython",
    "version": 3
   },
   "file_extension": ".py",
   "mimetype": "text/x-python",
   "name": "python",
   "nbconvert_exporter": "python",
   "pygments_lexer": "ipython3",
   "version": "3.7.6"
  }
 },
 "nbformat": 4,
 "nbformat_minor": 2
}
